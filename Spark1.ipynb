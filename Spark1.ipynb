{
 "cells": [
  {
   "cell_type": "code",
   "execution_count": 2,
   "id": "271cc9a3",
   "metadata": {},
   "outputs": [
    {
     "name": "stderr",
     "output_type": "stream",
     "text": [
      "Setting default log level to \"WARN\".\n",
      "To adjust logging level use sc.setLogLevel(newLevel). For SparkR, use setLogLevel(newLevel).\n",
      "23/09/20 08:59:54 WARN NativeCodeLoader: Unable to load native-hadoop library for your platform... using builtin-java classes where applicable\n"
     ]
    }
   ],
   "source": [
    "# On importe pyspark.sql car il dispose de plusieurs lib proposant des fonctionalitées pour travailler avec des données\n",
    "from pyspark.sql import SparkSession\n",
    "\n",
    "spark = SparkSession.builder \\\n",
    "    .appName(\"MyApp\") \\\n",
    "    .getOrCreate()"
   ]
  },
  {
   "cell_type": "code",
   "execution_count": 6,
   "id": "5401aec6",
   "metadata": {},
   "outputs": [
    {
     "data": {
      "text/plain": [
       "['Books', 'DVD', 'CD', 'PenDrive']"
      ]
     },
     "execution_count": 6,
     "metadata": {},
     "output_type": "execute_result"
    }
   ],
   "source": [
    "keywords = ['Books', 'DVD', 'CD', 'PenDrive']\n",
    "# Créer un RDD\n",
    "# Resilient Distributed Datasets\n",
    "keywords_rdd = spark.sparkContext.parallelize(keywords)\n",
    "\n",
    "# Afficher le RDD\n",
    "keywords_rdd.collect()\n"
   ]
  },
  {
   "cell_type": "code",
   "execution_count": 7,
   "id": "a6dfb6e4",
   "metadata": {},
   "outputs": [],
   "source": [
    "num = [1,2,3,4,5]\n",
    "num_rdd = spark.sparkContext.parallelize(num)\n",
    "\n",
    "# Map\n",
    "double_rdd = num_rdd.map(lambda x : x * 2)\n",
    "\n",
    "# Filter\n",
    "even_rdd = num_rdd.filter(lambda x : x % 2 == 0)\n",
    "\n",
    "# Flat ? \n",
    "flat_rdd = num_rdd.flatMap(lambda x : range(1,x))"
   ]
  },
  {
   "cell_type": "code",
   "execution_count": null,
   "id": "2a4a804b",
   "metadata": {},
   "outputs": [],
   "source": []
  }
 ],
 "metadata": {
  "kernelspec": {
   "display_name": "Python 3 (ipykernel)",
   "language": "python",
   "name": "python3"
  },
  "language_info": {
   "codemirror_mode": {
    "name": "ipython",
    "version": 3
   },
   "file_extension": ".py",
   "mimetype": "text/x-python",
   "name": "python",
   "nbconvert_exporter": "python",
   "pygments_lexer": "ipython3",
   "version": "3.9.13"
  }
 },
 "nbformat": 4,
 "nbformat_minor": 5
}
